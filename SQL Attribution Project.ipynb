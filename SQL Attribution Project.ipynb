{
 "cells": [
  {
   "cell_type": "markdown",
   "metadata": {},
   "source": [
    "# Project Assignment : Attribution Data"
   ]
  },
  {
   "cell_type": "markdown",
   "metadata": {},
   "source": [
    "This notebook is an assignment from Codecademy Data Science Path - Section 5: Analyze Real Data with SQL."
   ]
  },
  {
   "cell_type": "markdown",
   "metadata": {},
   "source": [
    "CoolTShirts, an innovative apparel shop, is running a bunch of marketing campaigns. In this project, I’ll be helping them answer these questions about their campaigns.\n",
    "\n",
    "========================================================================================================================="
   ]
  },
  {
   "cell_type": "markdown",
   "metadata": {},
   "source": [
    "Import related sqlalchemy module and setup database connection"
   ]
  },
  {
   "cell_type": "code",
   "execution_count": 1,
   "metadata": {},
   "outputs": [],
   "source": [
    "from sqlalchemy import create_engine"
   ]
  },
  {
   "cell_type": "code",
   "execution_count": 2,
   "metadata": {},
   "outputs": [],
   "source": [
    "engine = create_engine('sqlite:///attribution.db')\n",
    "connection = engine.connect()"
   ]
  },
  {
   "cell_type": "code",
   "execution_count": 3,
   "metadata": {},
   "outputs": [
    {
     "data": {
      "text/plain": [
       "'Connected: @attribution.db'"
      ]
     },
     "execution_count": 3,
     "metadata": {},
     "output_type": "execute_result"
    }
   ],
   "source": [
    "# setting the SQL Magic Commands\n",
    "%load_ext sql\n",
    "%sql sqlite:///attribution.db"
   ]
  },
  {
   "cell_type": "markdown",
   "metadata": {},
   "source": [
    "Print tables in attribution.db"
   ]
  },
  {
   "cell_type": "code",
   "execution_count": 4,
   "metadata": {},
   "outputs": [
    {
     "name": "stdout",
     "output_type": "stream",
     "text": [
      "['page_visits']\n"
     ]
    }
   ],
   "source": [
    "print(engine.table_names())"
   ]
  },
  {
   "cell_type": "markdown",
   "metadata": {},
   "source": [
    "First, lets get an overview of the data:"
   ]
  },
  {
   "cell_type": "code",
   "execution_count": 5,
   "metadata": {},
   "outputs": [
    {
     "name": "stdout",
     "output_type": "stream",
     "text": [
      " * sqlite:///attribution.db\n",
      "Done.\n"
     ]
    },
    {
     "data": {
      "text/html": [
       "<table>\n",
       "    <tr>\n",
       "        <th>page_name</th>\n",
       "        <th>timestamp</th>\n",
       "        <th>user_id</th>\n",
       "        <th>utm_campaign</th>\n",
       "        <th>utm_source</th>\n",
       "    </tr>\n",
       "    <tr>\n",
       "        <td>1 - landing_page</td>\n",
       "        <td>2018-01-24 03:12:16</td>\n",
       "        <td>10006</td>\n",
       "        <td>getting-to-know-cool-tshirts</td>\n",
       "        <td>nytimes</td>\n",
       "    </tr>\n",
       "    <tr>\n",
       "        <td>2 - shopping_cart</td>\n",
       "        <td>2018-01-24 04:04:16</td>\n",
       "        <td>10006</td>\n",
       "        <td>getting-to-know-cool-tshirts</td>\n",
       "        <td>nytimes</td>\n",
       "    </tr>\n",
       "    <tr>\n",
       "        <td>3 - checkout</td>\n",
       "        <td>2018-01-25 23:10:16</td>\n",
       "        <td>10006</td>\n",
       "        <td>weekly-newsletter</td>\n",
       "        <td>email</td>\n",
       "    </tr>\n",
       "    <tr>\n",
       "        <td>1 - landing_page</td>\n",
       "        <td>2018-01-25 20:32:02</td>\n",
       "        <td>10030</td>\n",
       "        <td>ten-crazy-cool-tshirts-facts</td>\n",
       "        <td>buzzfeed</td>\n",
       "    </tr>\n",
       "    <tr>\n",
       "        <td>2 - shopping_cart</td>\n",
       "        <td>2018-01-25 23:05:02</td>\n",
       "        <td>10030</td>\n",
       "        <td>ten-crazy-cool-tshirts-facts</td>\n",
       "        <td>buzzfeed</td>\n",
       "    </tr>\n",
       "    <tr>\n",
       "        <td>3 - checkout</td>\n",
       "        <td>2018-01-28 13:26:02</td>\n",
       "        <td>10030</td>\n",
       "        <td>retargetting-campaign</td>\n",
       "        <td>email</td>\n",
       "    </tr>\n",
       "    <tr>\n",
       "        <td>4 - purchase</td>\n",
       "        <td>2018-01-28 13:38:02</td>\n",
       "        <td>10030</td>\n",
       "        <td>retargetting-campaign</td>\n",
       "        <td>email</td>\n",
       "    </tr>\n",
       "    <tr>\n",
       "        <td>1 - landing_page</td>\n",
       "        <td>2018-01-05 18:31:17</td>\n",
       "        <td>10045</td>\n",
       "        <td>getting-to-know-cool-tshirts</td>\n",
       "        <td>nytimes</td>\n",
       "    </tr>\n",
       "    <tr>\n",
       "        <td>2 - shopping_cart</td>\n",
       "        <td>2018-01-05 21:16:17</td>\n",
       "        <td>10045</td>\n",
       "        <td>getting-to-know-cool-tshirts</td>\n",
       "        <td>nytimes</td>\n",
       "    </tr>\n",
       "    <tr>\n",
       "        <td>3 - checkout</td>\n",
       "        <td>2018-01-09 03:05:17</td>\n",
       "        <td>10045</td>\n",
       "        <td>retargetting-ad</td>\n",
       "        <td>facebook</td>\n",
       "    </tr>\n",
       "    <tr>\n",
       "        <td>1 - landing_page</td>\n",
       "        <td>2018-01-16 04:17:46</td>\n",
       "        <td>10048</td>\n",
       "        <td>interview-with-cool-tshirts-founder</td>\n",
       "        <td>medium</td>\n",
       "    </tr>\n",
       "    <tr>\n",
       "        <td>2 - shopping_cart</td>\n",
       "        <td>2018-01-16 07:28:46</td>\n",
       "        <td>10048</td>\n",
       "        <td>interview-with-cool-tshirts-founder</td>\n",
       "        <td>medium</td>\n",
       "    </tr>\n",
       "    <tr>\n",
       "        <td>3 - checkout</td>\n",
       "        <td>2018-01-19 00:00:46</td>\n",
       "        <td>10048</td>\n",
       "        <td>retargetting-campaign</td>\n",
       "        <td>email</td>\n",
       "    </tr>\n",
       "    <tr>\n",
       "        <td>1 - landing_page</td>\n",
       "        <td>2018-01-02 23:14:01</td>\n",
       "        <td>10069</td>\n",
       "        <td>ten-crazy-cool-tshirts-facts</td>\n",
       "        <td>buzzfeed</td>\n",
       "    </tr>\n",
       "    <tr>\n",
       "        <td>2 - shopping_cart</td>\n",
       "        <td>2018-01-02 23:55:01</td>\n",
       "        <td>10069</td>\n",
       "        <td>ten-crazy-cool-tshirts-facts</td>\n",
       "        <td>buzzfeed</td>\n",
       "    </tr>\n",
       "</table>"
      ],
      "text/plain": [
       "[('1 - landing_page', '2018-01-24 03:12:16', 10006, 'getting-to-know-cool-tshirts', 'nytimes'),\n",
       " ('2 - shopping_cart', '2018-01-24 04:04:16', 10006, 'getting-to-know-cool-tshirts', 'nytimes'),\n",
       " ('3 - checkout', '2018-01-25 23:10:16', 10006, 'weekly-newsletter', 'email'),\n",
       " ('1 - landing_page', '2018-01-25 20:32:02', 10030, 'ten-crazy-cool-tshirts-facts', 'buzzfeed'),\n",
       " ('2 - shopping_cart', '2018-01-25 23:05:02', 10030, 'ten-crazy-cool-tshirts-facts', 'buzzfeed'),\n",
       " ('3 - checkout', '2018-01-28 13:26:02', 10030, 'retargetting-campaign', 'email'),\n",
       " ('4 - purchase', '2018-01-28 13:38:02', 10030, 'retargetting-campaign', 'email'),\n",
       " ('1 - landing_page', '2018-01-05 18:31:17', 10045, 'getting-to-know-cool-tshirts', 'nytimes'),\n",
       " ('2 - shopping_cart', '2018-01-05 21:16:17', 10045, 'getting-to-know-cool-tshirts', 'nytimes'),\n",
       " ('3 - checkout', '2018-01-09 03:05:17', 10045, 'retargetting-ad', 'facebook'),\n",
       " ('1 - landing_page', '2018-01-16 04:17:46', 10048, 'interview-with-cool-tshirts-founder', 'medium'),\n",
       " ('2 - shopping_cart', '2018-01-16 07:28:46', 10048, 'interview-with-cool-tshirts-founder', 'medium'),\n",
       " ('3 - checkout', '2018-01-19 00:00:46', 10048, 'retargetting-campaign', 'email'),\n",
       " ('1 - landing_page', '2018-01-02 23:14:01', 10069, 'ten-crazy-cool-tshirts-facts', 'buzzfeed'),\n",
       " ('2 - shopping_cart', '2018-01-02 23:55:01', 10069, 'ten-crazy-cool-tshirts-facts', 'buzzfeed')]"
      ]
     },
     "execution_count": 5,
     "metadata": {},
     "output_type": "execute_result"
    }
   ],
   "source": [
    "%%sql\n",
    "\n",
    "SELECT *\n",
    "FROM page_visits\n",
    "LIMIT 15;"
   ]
  },
  {
   "cell_type": "code",
   "execution_count": 6,
   "metadata": {},
   "outputs": [
    {
     "name": "stdout",
     "output_type": "stream",
     "text": [
      " * sqlite:///attribution.db\n",
      "Done.\n"
     ]
    },
    {
     "data": {
      "text/html": [
       "<table>\n",
       "    <tr>\n",
       "        <th>COUNT(*)</th>\n",
       "    </tr>\n",
       "    <tr>\n",
       "        <td>5692</td>\n",
       "    </tr>\n",
       "</table>"
      ],
      "text/plain": [
       "[(5692,)]"
      ]
     },
     "execution_count": 6,
     "metadata": {},
     "output_type": "execute_result"
    }
   ],
   "source": [
    "%%sql\n",
    "\n",
    "SELECT COUNT(*)\n",
    "FROM page_visits;"
   ]
  },
  {
   "cell_type": "markdown",
   "metadata": {},
   "source": [
    "There are 5692 row(s) in this data."
   ]
  },
  {
   "cell_type": "markdown",
   "metadata": {},
   "source": [
    "## 1. Getting familiar with the company"
   ]
  },
  {
   "cell_type": "markdown",
   "metadata": {},
   "source": [
    "### 1.1. How many campaigns and sources does CoolTShirts use and how are they related?"
   ]
  },
  {
   "cell_type": "markdown",
   "metadata": {},
   "source": [
    "Campaigns that CoolTShirts is running is as follows."
   ]
  },
  {
   "cell_type": "code",
   "execution_count": 7,
   "metadata": {},
   "outputs": [
    {
     "name": "stdout",
     "output_type": "stream",
     "text": [
      " * sqlite:///attribution.db\n",
      "Done.\n"
     ]
    },
    {
     "data": {
      "text/html": [
       "<table>\n",
       "    <tr>\n",
       "        <th>utm_campaign</th>\n",
       "    </tr>\n",
       "    <tr>\n",
       "        <td>getting-to-know-cool-tshirts</td>\n",
       "    </tr>\n",
       "    <tr>\n",
       "        <td>weekly-newsletter</td>\n",
       "    </tr>\n",
       "    <tr>\n",
       "        <td>ten-crazy-cool-tshirts-facts</td>\n",
       "    </tr>\n",
       "    <tr>\n",
       "        <td>retargetting-campaign</td>\n",
       "    </tr>\n",
       "    <tr>\n",
       "        <td>retargetting-ad</td>\n",
       "    </tr>\n",
       "    <tr>\n",
       "        <td>interview-with-cool-tshirts-founder</td>\n",
       "    </tr>\n",
       "    <tr>\n",
       "        <td>paid-search</td>\n",
       "    </tr>\n",
       "    <tr>\n",
       "        <td>cool-tshirts-search</td>\n",
       "    </tr>\n",
       "</table>"
      ],
      "text/plain": [
       "[('getting-to-know-cool-tshirts',),\n",
       " ('weekly-newsletter',),\n",
       " ('ten-crazy-cool-tshirts-facts',),\n",
       " ('retargetting-campaign',),\n",
       " ('retargetting-ad',),\n",
       " ('interview-with-cool-tshirts-founder',),\n",
       " ('paid-search',),\n",
       " ('cool-tshirts-search',)]"
      ]
     },
     "execution_count": 7,
     "metadata": {},
     "output_type": "execute_result"
    }
   ],
   "source": [
    "%%sql\n",
    "\n",
    "/*Campaigns*/\n",
    "SELECT DISTINCT(utm_campaign)\n",
    "FROM page_visits;"
   ]
  },
  {
   "cell_type": "markdown",
   "metadata": {},
   "source": [
    "Campaign sources of CoolTShirts company are:"
   ]
  },
  {
   "cell_type": "code",
   "execution_count": 8,
   "metadata": {},
   "outputs": [
    {
     "name": "stdout",
     "output_type": "stream",
     "text": [
      " * sqlite:///attribution.db\n",
      "Done.\n"
     ]
    },
    {
     "data": {
      "text/html": [
       "<table>\n",
       "    <tr>\n",
       "        <th>utm_source</th>\n",
       "    </tr>\n",
       "    <tr>\n",
       "        <td>nytimes</td>\n",
       "    </tr>\n",
       "    <tr>\n",
       "        <td>email</td>\n",
       "    </tr>\n",
       "    <tr>\n",
       "        <td>buzzfeed</td>\n",
       "    </tr>\n",
       "    <tr>\n",
       "        <td>facebook</td>\n",
       "    </tr>\n",
       "    <tr>\n",
       "        <td>medium</td>\n",
       "    </tr>\n",
       "    <tr>\n",
       "        <td>google</td>\n",
       "    </tr>\n",
       "</table>"
      ],
      "text/plain": [
       "[('nytimes',),\n",
       " ('email',),\n",
       " ('buzzfeed',),\n",
       " ('facebook',),\n",
       " ('medium',),\n",
       " ('google',)]"
      ]
     },
     "execution_count": 8,
     "metadata": {},
     "output_type": "execute_result"
    }
   ],
   "source": [
    "%%sql\n",
    "\n",
    "/*Sources*/\n",
    "SELECT DISTINCT(utm_source)\n",
    "FROM page_visits;"
   ]
  },
  {
   "cell_type": "markdown",
   "metadata": {},
   "source": [
    "We can see the relationship between campaign and source in this table below"
   ]
  },
  {
   "cell_type": "code",
   "execution_count": 9,
   "metadata": {},
   "outputs": [
    {
     "name": "stdout",
     "output_type": "stream",
     "text": [
      " * sqlite:///attribution.db\n",
      "Done.\n"
     ]
    },
    {
     "data": {
      "text/html": [
       "<table>\n",
       "    <tr>\n",
       "        <th>utm_campaign</th>\n",
       "        <th>utm_source</th>\n",
       "    </tr>\n",
       "    <tr>\n",
       "        <td>getting-to-know-cool-tshirts</td>\n",
       "        <td>nytimes</td>\n",
       "    </tr>\n",
       "    <tr>\n",
       "        <td>weekly-newsletter</td>\n",
       "        <td>email</td>\n",
       "    </tr>\n",
       "    <tr>\n",
       "        <td>ten-crazy-cool-tshirts-facts</td>\n",
       "        <td>buzzfeed</td>\n",
       "    </tr>\n",
       "    <tr>\n",
       "        <td>retargetting-campaign</td>\n",
       "        <td>email</td>\n",
       "    </tr>\n",
       "    <tr>\n",
       "        <td>retargetting-ad</td>\n",
       "        <td>facebook</td>\n",
       "    </tr>\n",
       "    <tr>\n",
       "        <td>interview-with-cool-tshirts-founder</td>\n",
       "        <td>medium</td>\n",
       "    </tr>\n",
       "    <tr>\n",
       "        <td>paid-search</td>\n",
       "        <td>google</td>\n",
       "    </tr>\n",
       "    <tr>\n",
       "        <td>cool-tshirts-search</td>\n",
       "        <td>google</td>\n",
       "    </tr>\n",
       "</table>"
      ],
      "text/plain": [
       "[('getting-to-know-cool-tshirts', 'nytimes'),\n",
       " ('weekly-newsletter', 'email'),\n",
       " ('ten-crazy-cool-tshirts-facts', 'buzzfeed'),\n",
       " ('retargetting-campaign', 'email'),\n",
       " ('retargetting-ad', 'facebook'),\n",
       " ('interview-with-cool-tshirts-founder', 'medium'),\n",
       " ('paid-search', 'google'),\n",
       " ('cool-tshirts-search', 'google')]"
      ]
     },
     "execution_count": 9,
     "metadata": {},
     "output_type": "execute_result"
    }
   ],
   "source": [
    "%%sql\n",
    "\n",
    "/*Campaigns & Sources Relationship*/\n",
    "SELECT DISTINCT utm_campaign, utm_source\n",
    "FROM page_visits;"
   ]
  },
  {
   "cell_type": "markdown",
   "metadata": {},
   "source": [
    "- Campaign: Identifies the specific ad or email blast (i.e., june-21- newsletter or memorial-day-sale)\n",
    "- Source: Identifies which site sent the traffic (i.e., google, newsletter, or facebook_ad)\n",
    "\n",
    "1 utm_campaigns correspond to 1 source, but 1 source can have more than 1 campaign."
   ]
  },
  {
   "cell_type": "markdown",
   "metadata": {},
   "source": [
    "### 1.2. What pages are on the website?"
   ]
  },
  {
   "cell_type": "code",
   "execution_count": 10,
   "metadata": {},
   "outputs": [
    {
     "name": "stdout",
     "output_type": "stream",
     "text": [
      " * sqlite:///attribution.db\n",
      "Done.\n"
     ]
    },
    {
     "data": {
      "text/html": [
       "<table>\n",
       "    <tr>\n",
       "        <th>page_name</th>\n",
       "    </tr>\n",
       "    <tr>\n",
       "        <td>1 - landing_page</td>\n",
       "    </tr>\n",
       "    <tr>\n",
       "        <td>2 - shopping_cart</td>\n",
       "    </tr>\n",
       "    <tr>\n",
       "        <td>3 - checkout</td>\n",
       "    </tr>\n",
       "    <tr>\n",
       "        <td>4 - purchase</td>\n",
       "    </tr>\n",
       "</table>"
      ],
      "text/plain": [
       "[('1 - landing_page',),\n",
       " ('2 - shopping_cart',),\n",
       " ('3 - checkout',),\n",
       " ('4 - purchase',)]"
      ]
     },
     "execution_count": 10,
     "metadata": {},
     "output_type": "execute_result"
    }
   ],
   "source": [
    "%%sql\n",
    "\n",
    "/*Pages on Site*/\n",
    "SELECT DISTINCT(page_name)\n",
    "FROM page_visits;"
   ]
  },
  {
   "cell_type": "markdown",
   "metadata": {},
   "source": [
    "There are 4 pages on CoolTShirts website, which is: landing_page, shopping_cart, checkout, and purchase. These pages resembles a user journey to purchase an item from their website."
   ]
  },
  {
   "cell_type": "markdown",
   "metadata": {},
   "source": [
    "## 2. User Journey"
   ]
  },
  {
   "cell_type": "markdown",
   "metadata": {},
   "source": [
    "### 2.1. How many first touches is each campaign responsible for?"
   ]
  },
  {
   "cell_type": "code",
   "execution_count": 11,
   "metadata": {},
   "outputs": [
    {
     "name": "stdout",
     "output_type": "stream",
     "text": [
      " * sqlite:///attribution.db\n",
      "Done.\n"
     ]
    },
    {
     "data": {
      "text/html": [
       "<table>\n",
       "    <tr>\n",
       "        <th>utm_campaign</th>\n",
       "        <th>utm_source</th>\n",
       "        <th>COUNT(*)</th>\n",
       "    </tr>\n",
       "    <tr>\n",
       "        <td>interview-with-cool-tshirts-founder</td>\n",
       "        <td>medium</td>\n",
       "        <td>622</td>\n",
       "    </tr>\n",
       "    <tr>\n",
       "        <td>getting-to-know-cool-tshirts</td>\n",
       "        <td>nytimes</td>\n",
       "        <td>612</td>\n",
       "    </tr>\n",
       "    <tr>\n",
       "        <td>ten-crazy-cool-tshirts-facts</td>\n",
       "        <td>buzzfeed</td>\n",
       "        <td>576</td>\n",
       "    </tr>\n",
       "    <tr>\n",
       "        <td>cool-tshirts-search</td>\n",
       "        <td>google</td>\n",
       "        <td>169</td>\n",
       "    </tr>\n",
       "</table>"
      ],
      "text/plain": [
       "[('interview-with-cool-tshirts-founder', 'medium', 622),\n",
       " ('getting-to-know-cool-tshirts', 'nytimes', 612),\n",
       " ('ten-crazy-cool-tshirts-facts', 'buzzfeed', 576),\n",
       " ('cool-tshirts-search', 'google', 169)]"
      ]
     },
     "execution_count": 11,
     "metadata": {},
     "output_type": "execute_result"
    }
   ],
   "source": [
    "%%sql\n",
    "\n",
    "/*First Touch*/\n",
    "WITH first_touch AS (\n",
    "    SELECT user_id,\n",
    "        MIN(timestamp) as first_touch_at\n",
    "    FROM page_visits\n",
    "    GROUP BY user_id),\n",
    "    ft_attr AS( \n",
    "    SELECT ft.user_id,\n",
    "               ft.first_touch_at,\n",
    "               pv.utm_source,\n",
    "               pv.utm_campaign\n",
    "    FROM first_touch as ft\n",
    "      JOIN page_visits as PV\n",
    "        ON ft.user_id = pv.user_id\n",
    "        AND ft.first_touch_at = pv.timestamp\n",
    "    )\n",
    "SELECT ft_attr.utm_campaign,\n",
    "        ft_attr.utm_source,\n",
    "        COUNT(*)\n",
    "FROM fT_attr\n",
    "GROUP BY 1,2\n",
    "ORDER BY 3 DESC;"
   ]
  },
  {
   "cell_type": "markdown",
   "metadata": {},
   "source": [
    "### 2.2. How many last touches is each campaign responsible for?"
   ]
  },
  {
   "cell_type": "code",
   "execution_count": 15,
   "metadata": {},
   "outputs": [
    {
     "name": "stdout",
     "output_type": "stream",
     "text": [
      " * sqlite:///attribution.db\n",
      "Done.\n"
     ]
    },
    {
     "data": {
      "text/html": [
       "<table>\n",
       "    <tr>\n",
       "        <th>utm_campaign</th>\n",
       "        <th>utm_source</th>\n",
       "        <th>COUNT(*)</th>\n",
       "    </tr>\n",
       "    <tr>\n",
       "        <td>weekly-newsletter</td>\n",
       "        <td>email</td>\n",
       "        <td>447</td>\n",
       "    </tr>\n",
       "    <tr>\n",
       "        <td>retargetting-ad</td>\n",
       "        <td>facebook</td>\n",
       "        <td>443</td>\n",
       "    </tr>\n",
       "    <tr>\n",
       "        <td>retargetting-campaign</td>\n",
       "        <td>email</td>\n",
       "        <td>245</td>\n",
       "    </tr>\n",
       "    <tr>\n",
       "        <td>getting-to-know-cool-tshirts</td>\n",
       "        <td>nytimes</td>\n",
       "        <td>232</td>\n",
       "    </tr>\n",
       "    <tr>\n",
       "        <td>ten-crazy-cool-tshirts-facts</td>\n",
       "        <td>buzzfeed</td>\n",
       "        <td>190</td>\n",
       "    </tr>\n",
       "    <tr>\n",
       "        <td>interview-with-cool-tshirts-founder</td>\n",
       "        <td>medium</td>\n",
       "        <td>184</td>\n",
       "    </tr>\n",
       "    <tr>\n",
       "        <td>paid-search</td>\n",
       "        <td>google</td>\n",
       "        <td>178</td>\n",
       "    </tr>\n",
       "    <tr>\n",
       "        <td>cool-tshirts-search</td>\n",
       "        <td>google</td>\n",
       "        <td>60</td>\n",
       "    </tr>\n",
       "</table>"
      ],
      "text/plain": [
       "[('weekly-newsletter', 'email', 447),\n",
       " ('retargetting-ad', 'facebook', 443),\n",
       " ('retargetting-campaign', 'email', 245),\n",
       " ('getting-to-know-cool-tshirts', 'nytimes', 232),\n",
       " ('ten-crazy-cool-tshirts-facts', 'buzzfeed', 190),\n",
       " ('interview-with-cool-tshirts-founder', 'medium', 184),\n",
       " ('paid-search', 'google', 178),\n",
       " ('cool-tshirts-search', 'google', 60)]"
      ]
     },
     "execution_count": 15,
     "metadata": {},
     "output_type": "execute_result"
    }
   ],
   "source": [
    "%%sql\n",
    "\n",
    "WITH last_touch AS (\n",
    "    SELECT user_id,\n",
    "        MAX(timestamp) as last_touch_at\n",
    "    FROM page_visits\n",
    "    GROUP BY user_id),\n",
    "    lt_attr AS( \n",
    "    SELECT lt.user_id,\n",
    "               lt.last_touch_at,\n",
    "               pv.utm_source,\n",
    "               pv.utm_campaign\n",
    "    FROM last_touch as lt\n",
    "      JOIN page_visits as PV\n",
    "        ON lt.user_id = pv.user_id\n",
    "        AND lt.last_touch_at = pv.timestamp\n",
    "    )\n",
    "SELECT lt_attr.utm_campaign,\n",
    "        lt_attr.utm_source,\n",
    "        COUNT(*)\n",
    "FROM lt_attr\n",
    "GROUP BY 1,2\n",
    "ORDER BY 3 DESC;"
   ]
  },
  {
   "cell_type": "markdown",
   "metadata": {},
   "source": [
    "### 2.3. How many visitors make a purchase?"
   ]
  },
  {
   "cell_type": "code",
   "execution_count": 13,
   "metadata": {},
   "outputs": [
    {
     "name": "stdout",
     "output_type": "stream",
     "text": [
      " * sqlite:///attribution.db\n",
      "Done.\n"
     ]
    },
    {
     "data": {
      "text/html": [
       "<table>\n",
       "    <tr>\n",
       "        <th>COUNT(DISTINCT(user_id))</th>\n",
       "    </tr>\n",
       "    <tr>\n",
       "        <td>361</td>\n",
       "    </tr>\n",
       "</table>"
      ],
      "text/plain": [
       "[(361,)]"
      ]
     },
     "execution_count": 13,
     "metadata": {},
     "output_type": "execute_result"
    }
   ],
   "source": [
    "%%sql\n",
    "\n",
    "SELECT COUNT(DISTINCT(user_id))\n",
    "FROM page_visits\n",
    "WHERE page_name = '4 - purchase';"
   ]
  },
  {
   "cell_type": "markdown",
   "metadata": {},
   "source": [
    "There are 361 different visitors that make a purchase on CoolTShirts site"
   ]
  },
  {
   "cell_type": "markdown",
   "metadata": {},
   "source": [
    "### 2.4. How many last touches on the purchase page is each campaign responsible for?"
   ]
  },
  {
   "cell_type": "code",
   "execution_count": 14,
   "metadata": {},
   "outputs": [
    {
     "name": "stdout",
     "output_type": "stream",
     "text": [
      " * sqlite:///attribution.db\n",
      "Done.\n"
     ]
    },
    {
     "data": {
      "text/html": [
       "<table>\n",
       "    <tr>\n",
       "        <th>utm_campaign</th>\n",
       "        <th>utm_source</th>\n",
       "        <th>COUNT(*)</th>\n",
       "    </tr>\n",
       "    <tr>\n",
       "        <td>weekly-newsletter</td>\n",
       "        <td>email</td>\n",
       "        <td>115</td>\n",
       "    </tr>\n",
       "    <tr>\n",
       "        <td>retargetting-ad</td>\n",
       "        <td>facebook</td>\n",
       "        <td>113</td>\n",
       "    </tr>\n",
       "    <tr>\n",
       "        <td>retargetting-campaign</td>\n",
       "        <td>email</td>\n",
       "        <td>54</td>\n",
       "    </tr>\n",
       "    <tr>\n",
       "        <td>paid-search</td>\n",
       "        <td>google</td>\n",
       "        <td>52</td>\n",
       "    </tr>\n",
       "    <tr>\n",
       "        <td>getting-to-know-cool-tshirts</td>\n",
       "        <td>nytimes</td>\n",
       "        <td>9</td>\n",
       "    </tr>\n",
       "    <tr>\n",
       "        <td>ten-crazy-cool-tshirts-facts</td>\n",
       "        <td>buzzfeed</td>\n",
       "        <td>9</td>\n",
       "    </tr>\n",
       "    <tr>\n",
       "        <td>interview-with-cool-tshirts-founder</td>\n",
       "        <td>medium</td>\n",
       "        <td>7</td>\n",
       "    </tr>\n",
       "    <tr>\n",
       "        <td>cool-tshirts-search</td>\n",
       "        <td>google</td>\n",
       "        <td>2</td>\n",
       "    </tr>\n",
       "</table>"
      ],
      "text/plain": [
       "[('weekly-newsletter', 'email', 115),\n",
       " ('retargetting-ad', 'facebook', 113),\n",
       " ('retargetting-campaign', 'email', 54),\n",
       " ('paid-search', 'google', 52),\n",
       " ('getting-to-know-cool-tshirts', 'nytimes', 9),\n",
       " ('ten-crazy-cool-tshirts-facts', 'buzzfeed', 9),\n",
       " ('interview-with-cool-tshirts-founder', 'medium', 7),\n",
       " ('cool-tshirts-search', 'google', 2)]"
      ]
     },
     "execution_count": 14,
     "metadata": {},
     "output_type": "execute_result"
    }
   ],
   "source": [
    "%%sql\n",
    "\n",
    "WITH last_touch AS (\n",
    "    SELECT user_id,\n",
    "        MAX(timestamp) as last_touch_at\n",
    "    FROM page_visits\n",
    "    WHERE page_name = '4 - purchase'\n",
    "    GROUP BY user_id),\n",
    "    lt_attr AS( \n",
    "    SELECT lt.user_id,\n",
    "               lt.last_touch_at,\n",
    "               pv.utm_source,\n",
    "               pv.utm_campaign,\n",
    "              pv.page_name\n",
    "    FROM last_touch as lt\n",
    "      JOIN page_visits as PV\n",
    "        ON lt.user_id = pv.user_id\n",
    "        AND lt.last_touch_at = pv.timestamp\n",
    "    )\n",
    "SELECT lt_attr.utm_campaign,\n",
    "        lt_attr.utm_source,\n",
    "        COUNT(*)\n",
    "FROM lt_attr\n",
    "GROUP BY 1,2\n",
    "ORDER BY 3 DESC;"
   ]
  },
  {
   "cell_type": "markdown",
   "metadata": {},
   "source": [
    "### 2.5. What is the typical user journey?"
   ]
  },
  {
   "cell_type": "code",
   "execution_count": 16,
   "metadata": {},
   "outputs": [
    {
     "name": "stdout",
     "output_type": "stream",
     "text": [
      " * sqlite:///attribution.db\n",
      "Done.\n"
     ]
    },
    {
     "data": {
      "text/html": [
       "<table>\n",
       "    <tr>\n",
       "        <th>page_name</th>\n",
       "        <th>COUNT(*)</th>\n",
       "    </tr>\n",
       "    <tr>\n",
       "        <td>1 - landing_page</td>\n",
       "        <td>2000</td>\n",
       "    </tr>\n",
       "    <tr>\n",
       "        <td>2 - shopping_cart</td>\n",
       "        <td>1900</td>\n",
       "    </tr>\n",
       "    <tr>\n",
       "        <td>3 - checkout</td>\n",
       "        <td>1431</td>\n",
       "    </tr>\n",
       "    <tr>\n",
       "        <td>4 - purchase</td>\n",
       "        <td>361</td>\n",
       "    </tr>\n",
       "</table>"
      ],
      "text/plain": [
       "[('1 - landing_page', 2000),\n",
       " ('2 - shopping_cart', 1900),\n",
       " ('3 - checkout', 1431),\n",
       " ('4 - purchase', 361)]"
      ]
     },
     "execution_count": 16,
     "metadata": {},
     "output_type": "execute_result"
    }
   ],
   "source": [
    "%%sql\n",
    "\n",
    "SELECT page_name,COUNT(*)\n",
    "FROM page_visits\n",
    "GROUP BY page_name;"
   ]
  },
  {
   "cell_type": "markdown",
   "metadata": {},
   "source": [
    "These are the completion rate for each page, as a ratio to previous page:\n",
    "- landing_page : 2000\n",
    "- shopping_cart : 1900 (95%)\n",
    "- checkout : 1431 (75,32%)\n",
    "- purchase : 361 (25,23%)\n",
    "\n",
    "only 1 in 4 users purchased items after they completed their checkout!"
   ]
  },
  {
   "cell_type": "markdown",
   "metadata": {},
   "source": [
    "## 3. Optimizing the Campaign Budget"
   ]
  },
  {
   "cell_type": "markdown",
   "metadata": {},
   "source": [
    "### 3.1. CoolTShirts can re-invest in 5 campaigns. Which should they pick and why?"
   ]
  },
  {
   "cell_type": "markdown",
   "metadata": {},
   "source": [
    "CoolTShirts should focus on 5 existing campaigns that resulted in more purchase, as shown in the table below"
   ]
  },
  {
   "cell_type": "code",
   "execution_count": 17,
   "metadata": {},
   "outputs": [
    {
     "name": "stdout",
     "output_type": "stream",
     "text": [
      " * sqlite:///attribution.db\n",
      "Done.\n"
     ]
    },
    {
     "data": {
      "text/html": [
       "<table>\n",
       "    <tr>\n",
       "        <th>utm_campaign</th>\n",
       "        <th>utm_source</th>\n",
       "        <th>COUNT(*)</th>\n",
       "    </tr>\n",
       "    <tr>\n",
       "        <td>weekly-newsletter</td>\n",
       "        <td>email</td>\n",
       "        <td>115</td>\n",
       "    </tr>\n",
       "    <tr>\n",
       "        <td>retargetting-ad</td>\n",
       "        <td>facebook</td>\n",
       "        <td>113</td>\n",
       "    </tr>\n",
       "    <tr>\n",
       "        <td>retargetting-campaign</td>\n",
       "        <td>email</td>\n",
       "        <td>54</td>\n",
       "    </tr>\n",
       "    <tr>\n",
       "        <td>paid-search</td>\n",
       "        <td>google</td>\n",
       "        <td>52</td>\n",
       "    </tr>\n",
       "    <tr>\n",
       "        <td>getting-to-know-cool-tshirts</td>\n",
       "        <td>nytimes</td>\n",
       "        <td>9</td>\n",
       "    </tr>\n",
       "</table>"
      ],
      "text/plain": [
       "[('weekly-newsletter', 'email', 115),\n",
       " ('retargetting-ad', 'facebook', 113),\n",
       " ('retargetting-campaign', 'email', 54),\n",
       " ('paid-search', 'google', 52),\n",
       " ('getting-to-know-cool-tshirts', 'nytimes', 9)]"
      ]
     },
     "execution_count": 17,
     "metadata": {},
     "output_type": "execute_result"
    }
   ],
   "source": [
    "%%sql\n",
    "\n",
    "WITH last_touch AS (\n",
    "    SELECT user_id,\n",
    "        MAX(timestamp) as last_touch_at\n",
    "    FROM page_visits\n",
    "    WHERE page_name = '4 - purchase'\n",
    "    GROUP BY user_id),\n",
    "    lt_attr AS( \n",
    "    SELECT lt.user_id,\n",
    "               lt.last_touch_at,\n",
    "               pv.utm_source,\n",
    "               pv.utm_campaign,\n",
    "              pv.page_name\n",
    "    FROM last_touch as lt\n",
    "      JOIN page_visits as PV\n",
    "        ON lt.user_id = pv.user_id\n",
    "        AND lt.last_touch_at = pv.timestamp\n",
    "    )\n",
    "SELECT lt_attr.utm_campaign,\n",
    "        lt_attr.utm_source,\n",
    "        COUNT(*)\n",
    "FROM lt_attr\n",
    "GROUP BY 1,2\n",
    "ORDER BY 3 DESC\n",
    "LIMIT 5;"
   ]
  },
  {
   "cell_type": "markdown",
   "metadata": {},
   "source": [
    "## 4. Conclusion"
   ]
  },
  {
   "cell_type": "markdown",
   "metadata": {},
   "source": [
    "Based on section 3.1, CoolTShirts should focus on these campaigns:\n",
    "- weekly-newsletter (115 purchases)\n",
    "- retargetting-ad (113 purchases)\n",
    "- retargetting-campaign\t(54 purchases)\n",
    "- paid-search (52 purchases)\n",
    "- getting-to-know-cool-tshirts (9 purchases)"
   ]
  }
 ],
 "metadata": {
  "kernelspec": {
   "display_name": "Python 3",
   "language": "python",
   "name": "python3"
  },
  "language_info": {
   "codemirror_mode": {
    "name": "ipython",
    "version": 3
   },
   "file_extension": ".py",
   "mimetype": "text/x-python",
   "name": "python",
   "nbconvert_exporter": "python",
   "pygments_lexer": "ipython3",
   "version": "3.7.0"
  }
 },
 "nbformat": 4,
 "nbformat_minor": 2
}
